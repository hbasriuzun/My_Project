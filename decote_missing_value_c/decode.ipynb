{
 "cells": [
  {
   "cell_type": "code",
   "execution_count": 1,
   "metadata": {},
   "outputs": [
    {
     "ename": "",
     "evalue": "",
     "output_type": "error",
     "traceback": [
      "\u001b[1;31mKod yürütülemiyor, oturum atıldı. Lütfen Çekirdeği yeniden başlatmayı deneyin."
     ]
    },
    {
     "ename": "",
     "evalue": "",
     "output_type": "error",
     "traceback": [
      "\u001b[1;31mGeçerli hücrede veya önceki bir hücrede kod yürütülürken Çekirdek kilitlendi. Hatanın olası nedenini belirlemek için lütfen hücrelerdeki kodu gözden geçirin. Daha fazla bilgi için <a href='https://aka.ms/vscodeJupyterKernelCrash'>buraya</a> tıklayın. Daha fazla ayrıntı için Jupyter <a href='command:jupyter.viewOutput'>günlüğünü</a> görüntüleyin."
     ]
    }
   ],
   "source": [
    "import pandas as pd\n",
    "import time\n",
    "\n",
    "# Başlangıç zamanını kaydet\n",
    "baslangic_zamani = time.time()\n",
    "\n",
    "# Girdi dosyasını oku\n",
    "girdiDosyaAdi = \"loan.csv\"\n",
    "veri = pd.read_csv(girdiDosyaAdi, header=None)\n",
    "\n",
    "# Boş hücrelere -999 atayın\n",
    "veri = veri.fillna(-999)\n",
    "\n",
    "# Çıktı dosyasına yaz\n",
    "ciktiDosyaAdi = \"cikti.csv\"\n",
    "veri.to_csv(ciktiDosyaAdi, index=False, header=False)\n",
    "\n",
    "# Bitiş zamanını kaydet\n",
    "bitis_zamani = time.time()\n",
    "\n",
    "# İşlem süresini hesapla\n",
    "sure = bitis_zamani - baslangic_zamani\n",
    "\n",
    "print(f\"Boş özelliklere -999 atandı ve çıktı dosyasına yazıldı. İşlem süresi: {sure:.2f} saniye\")\n"
   ]
  },
  {
   "cell_type": "code",
   "execution_count": 3,
   "metadata": {},
   "outputs": [
    {
     "name": "stdout",
     "output_type": "stream",
     "text": [
      "Boş özelliklere -999 atandı ve çıktı dosyasına yazıldı. İşlem süresi: 133.68 saniye\n"
     ]
    }
   ],
   "source": [
    "import time\n",
    "\n",
    "girdiDosyaAdi = \"genisletilmis_veri.csv\"\n",
    "ciktiDosyaAdi = \"cikti.csv\"\n",
    "\n",
    "baslangic_zamani = time.time()\n",
    "\n",
    "try:\n",
    "    with open(girdiDosyaAdi, \"r\") as girdiDosya, open(ciktiDosyaAdi, \"w\") as ciktiDosya:\n",
    "        for satir in girdiDosya:\n",
    "            temp = satir.strip().split(',')\n",
    "            yeni_satir = []\n",
    "            for deger in temp:\n",
    "                if not deger.strip():\n",
    "                    yeni_satir.append(\"-999\")\n",
    "                else:\n",
    "                    yeni_satir.append(deger)\n",
    "            ciktiDosya.write(','.join(yeni_satir) + '\\n')\n",
    "\n",
    "    bitis_zamani = time.time()\n",
    "    sure = bitis_zamani - baslangic_zamani\n",
    "    print(f\"Boş özelliklere -999 atandı ve çıktı dosyasına yazıldı. İşlem süresi: {sure:.2f} saniye\")\n",
    "\n",
    "except IOError as e:\n",
    "    print(f\"Dosya okuma/yazma hatası: {e}\")\n"
   ]
  }
 ],
 "metadata": {
  "kernelspec": {
   "display_name": "Python 3",
   "language": "python",
   "name": "python3"
  },
  "language_info": {
   "codemirror_mode": {
    "name": "ipython",
    "version": 3
   },
   "file_extension": ".py",
   "mimetype": "text/x-python",
   "name": "python",
   "nbconvert_exporter": "python",
   "pygments_lexer": "ipython3",
   "version": "3.10.12"
  },
  "orig_nbformat": 4
 },
 "nbformat": 4,
 "nbformat_minor": 2
}
