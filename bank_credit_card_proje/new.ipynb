{
 "cells": [
  {
   "cell_type": "code",
   "execution_count": 2,
   "metadata": {},
   "outputs": [
    {
     "name": "stderr",
     "output_type": "stream",
     "text": [
      "/home/hbasriuzun/.local/lib/python3.10/site-packages/IPython/core/interactiveshell.py:3508: DtypeWarning: Columns (19,55) have mixed types.Specify dtype option on import or set low_memory=False.\n",
      "  exec(code_obj, self.user_global_ns, self.user_ns)\n"
     ]
    }
   ],
   "source": [
    "import pandas as pd\n",
    "\n",
    "# CSV dosyasını oku ve DataFrame'e yükle\n",
    "veri = pd.read_csv('loan.csv')\n",
    "\n",
    "# Verinin boyutunu hesapla\n",
    "veri_boyutu = len(veri)\n",
    "\n",
    "# Veriyi 1/10'unu ayır ve ayrı bir dosyaya kaydet\n",
    "ayrilan_veri = veri.sample(frac=0.1, random_state=42)\n",
    "ayrilan_veri.to_excel('ayrilan_veri.xlsx', index=False)\n",
    "\n",
    "# Geriye kalan 9/10'unu ayır ve ayrı bir dosyaya kaydet\n",
    "geri_kalan_veri = veri.drop(ayrilan_veri.index)\n",
    "geri_kalan_veri.to_excel('geri_kalan_veri.xlsx', index=False)"
   ]
  },
  {
   "cell_type": "code",
   "execution_count": null,
   "metadata": {},
   "outputs": [],
   "source": []
  }
 ],
 "metadata": {
  "kernelspec": {
   "display_name": "Python 3",
   "language": "python",
   "name": "python3"
  },
  "language_info": {
   "codemirror_mode": {
    "name": "ipython",
    "version": 3
   },
   "file_extension": ".py",
   "mimetype": "text/x-python",
   "name": "python",
   "nbconvert_exporter": "python",
   "pygments_lexer": "ipython3",
   "version": "3.10.12"
  },
  "orig_nbformat": 4
 },
 "nbformat": 4,
 "nbformat_minor": 2
}
