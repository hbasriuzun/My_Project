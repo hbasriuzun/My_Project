{
 "cells": [
  {
   "cell_type": "code",
   "execution_count": null,
   "metadata": {},
   "outputs": [
    {
     "ename": "",
     "evalue": "",
     "output_type": "error",
     "traceback": [
      "\u001b[1;31m'_psutil_linux', 'most likely due to a circular import' konumundan içeri aktarılamadığı için çekirdek başlatılamadı.\n",
      "\u001b[1;31mDaha fazla bilgi için <a href='https://aka.ms/kernelFailuresModuleImportErrFromFile'>buraya</a> tıklayın."
     ]
    }
   ],
   "source": [
    "print(\"selam\")"
   ]
  }
 ],
 "metadata": {
  "kernelspec": {
   "display_name": "Python 3",
   "language": "python",
   "name": "python3"
  },
  "language_info": {
   "name": "python",
   "version": "3.11.0"
  },
  "orig_nbformat": 4
 },
 "nbformat": 4,
 "nbformat_minor": 2
}
